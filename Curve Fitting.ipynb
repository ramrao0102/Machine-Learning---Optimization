{
 "cells": [
  {
   "cell_type": "markdown",
   "id": "80e91172",
   "metadata": {},
   "source": [
    "# Scipy Curve Fitting"
   ]
  },
  {
   "cell_type": "code",
   "execution_count": 1,
   "id": "892b22d2",
   "metadata": {},
   "outputs": [],
   "source": [
    "from pandas import read_csv\n",
    "from numpy import arange\n",
    "from numpy import sin\n",
    "from numpy import sqrt\n",
    "from scipy.optimize import curve_fit\n",
    "from matplotlib import pyplot"
   ]
  },
  {
   "cell_type": "code",
   "execution_count": 2,
   "id": "b79713e9",
   "metadata": {},
   "outputs": [
    {
     "name": "stdout",
     "output_type": "stream",
     "text": [
      "y = 0.48488 * x + 8.38067\n"
     ]
    },
    {
     "data": {
      "image/png": "[encoded data removed]",
      "text/plain": [
       "<Figure size 432x288 with 1 Axes>"
      ]
     },
     "metadata": {
      "needs_background": "light"
     },
     "output_type": "display_data"
    }
   ],
   "source": [
    "def objective(x, a, b):\n",
    "    return a*x + b\n",
    "\n",
    "url = 'https://raw.githubusercontent.com/jbrownlee/Datasets/master/longley.csv'\n",
    "\n",
    "dataframe = read_csv(url, header = None)\n",
    "\n",
    "data = dataframe.values\n",
    "\n",
    "x,y = data[:,4], data[:,-1]\n",
    "\n",
    "popt, _ = curve_fit(objective, x, y)\n",
    "\n",
    "a, b = popt\n",
    "\n",
    "print('y = %.5f * x + %.5f' %(a,b))\n",
    "\n",
    "pyplot.scatter(x,y)\n",
    "\n",
    "x_line = arange(min(x), max(x), 1)\n",
    "\n",
    "y_line = objective(x_line, a,b)\n",
    "\n",
    "pyplot.plot(x_line, y_line, ls = '--', color = 'red')\n",
    "\n",
    "pyplot.show()"
   ]
  },
  {
   "cell_type": "markdown",
   "id": "4d65427d",
   "metadata": {},
   "source": [
    "# non linear polynomial function\n"
   ]
  },
  {
   "cell_type": "code",
   "execution_count": 3,
   "id": "5dc13c3c",
   "metadata": {},
   "outputs": [
    {
     "name": "stdout",
     "output_type": "stream",
     "text": [
      "y = 3.25444 * x + -0.01170 * x^2 +  -155.02799\n"
     ]
    },
    {
     "data": {
      "text/plain": [
       "[<matplotlib.lines.Line2D at 0x13cb793c580>]"
      ]
     },
     "execution_count": 3,
     "metadata": {},
     "output_type": "execute_result"
    },
    {
     "data": {
      "image/png": "[encoded data removed]",
      "text/plain": [
       "<Figure size 432x288 with 1 Axes>"
      ]
     },
     "metadata": {
      "needs_background": "light"
     },
     "output_type": "display_data"
    }
   ],
   "source": [
    "def objective(x, a, b, c):\n",
    "    return a*x + b *x**2 + c\n",
    "\n",
    "url = 'https://raw.githubusercontent.com/jbrownlee/Datasets/master/longley.csv'\n",
    "\n",
    "dataframe = read_csv(url, header = None)\n",
    "\n",
    "data = dataframe.values\n",
    "\n",
    "x,y = data[:,4], data[:,-1]\n",
    "\n",
    "popt, _ = curve_fit(objective, x, y)\n",
    "\n",
    "a, b , c = popt\n",
    "\n",
    "print('y = %.5f * x + %.5f * x^2 +  %.5f' %(a,b, c))\n",
    "\n",
    "pyplot.scatter(x,y)\n",
    "\n",
    "x_line = arange(min(x), max(x), 1)\n",
    "\n",
    "y_line = objective(x_line, a,b, c)\n",
    "\n",
    "pyplot.plot(x_line, y_line, ls = '--', color = 'red')\n",
    "\n"
   ]
  },
  {
   "cell_type": "markdown",
   "id": "37ba37fa",
   "metadata": {},
   "source": [
    "# 5th degree non linear polynomial function\n"
   ]
  },
  {
   "cell_type": "code",
   "execution_count": 5,
   "id": "c9504e8c",
   "metadata": {},
   "outputs": [
    {
     "name": "stdout",
     "output_type": "stream",
     "text": [
      "y = -3052.17589 * x + 46.70212 * x^2 + + -0.35321 * x^3 + 0.00132 * x^4 +  -0.00000 * x^5 + 79040.97550\n"
     ]
    },
    {
     "data": {
      "image/png": "[encoded data removed]",
      "text/plain": [
       "<Figure size 432x288 with 1 Axes>"
      ]
     },
     "metadata": {
      "needs_background": "light"
     },
     "output_type": "display_data"
    }
   ],
   "source": [
    "def objective(x, a, b, c, d, e, f):\n",
    "    return a*x + b *x**2 + c * x**3 + d * x**4 + e * x**5 + f\n",
    "\n",
    "url = 'https://raw.githubusercontent.com/jbrownlee/Datasets/master/longley.csv'\n",
    "\n",
    "dataframe = read_csv(url, header = None)\n",
    "\n",
    "data = dataframe.values\n",
    "\n",
    "x,y = data[:,4], data[:,-1]\n",
    "\n",
    "popt, _ = curve_fit(objective, x, y)\n",
    "\n",
    "a, b , c, d, e, f = popt\n",
    "\n",
    "print('y = %.5f * x + %.5f * x^2 + + %.5f * x^3 + %.5f * x^4 +  %.5f * x^5 + %.5f' %(a,b, c, d, e, f))\n",
    "\n",
    "pyplot.scatter(x,y)\n",
    "\n",
    "x_line = arange(min(x), max(x), 1)\n",
    "\n",
    "y_line = objective(x_line, a,b, c, d, e, f)\n",
    "\n",
    "pyplot.plot(x_line, y_line, ls = '--', color = 'red')\n",
    "\n",
    "pyplot.show()\n"
   ]
  },
  {
   "cell_type": "markdown",
   "id": "d13ab2f3",
   "metadata": {},
   "source": [
    "# sine function + polynomial"
   ]
  },
  {
   "cell_type": "code",
   "execution_count": 6,
   "id": "1d89eb76",
   "metadata": {},
   "outputs": [
    {
     "name": "stdout",
     "output_type": "stream",
     "text": [
      "y = 0.88310 * sin(1.48623 - x) + 0.00206 * x **2 + 36.90462 \n"
     ]
    },
    {
     "data": {
      "image/png": "[encoded data removed]",
      "text/plain": [
       "<Figure size 432x288 with 1 Axes>"
      ]
     },
     "metadata": {
      "needs_background": "light"
     },
     "output_type": "display_data"
    }
   ],
   "source": [
    "def objective(x, a, b, c, d):\n",
    "    return a * sin(b-x) + c * x**2 + d\n",
    "\n",
    "url = 'https://raw.githubusercontent.com/jbrownlee/Datasets/master/longley.csv'\n",
    "\n",
    "dataframe = read_csv(url, header = None)\n",
    "\n",
    "data = dataframe.values\n",
    "\n",
    "x,y = data[:,4], data[:,-1]\n",
    "\n",
    "popt, _ = curve_fit(objective, x, y)\n",
    "\n",
    "a, b , c, d = popt\n",
    "\n",
    "print('y = %.5f * sin(%.5f - x) + %.5f * x **2 + %.5f ' %(a,b, c, d))\n",
    "\n",
    "pyplot.scatter(x,y)\n",
    "\n",
    "x_line = arange(min(x), max(x), 1)\n",
    "\n",
    "y_line = objective(x_line, a,b, c, d)\n",
    "\n",
    "pyplot.plot(x_line, y_line, ls = '--', color = 'red')\n",
    "\n",
    "pyplot.show()"
   ]
  }
 ],
 "metadata": {
  "kernelspec": {
   "display_name": "Python 3 (ipykernel)",
   "language": "python",
   "name": "python3"
  },
  "language_info": {
   "codemirror_mode": {
    "name": "ipython",
    "version": 3
   },
   "file_extension": ".py",
   "mimetype": "text/x-python",
   "name": "python",
   "nbconvert_exporter": "python",
   "pygments_lexer": "ipython3",
   "version": "3.9.12"
  }
 },
 "nbformat": 4,
 "nbformat_minor": 5
}
